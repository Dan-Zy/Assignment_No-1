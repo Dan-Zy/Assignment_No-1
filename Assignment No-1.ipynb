{
 "cells": [
  {
   "cell_type": "markdown",
   "id": "d5a5945b",
   "metadata": {},
   "source": [
    "# Task-1"
   ]
  },
  {
   "cell_type": "code",
   "execution_count": 2,
   "id": "d7d594bb",
   "metadata": {},
   "outputs": [
    {
     "name": "stdout",
     "output_type": "stream",
     "text": [
      "Current Number is :  1\n",
      "The Sum of the Current and Previous Number is :  1\n",
      "\n",
      "Current Number is :  2\n",
      "The Sum of the Current and Previous Number is :  3\n",
      "\n",
      "Current Number is :  3\n",
      "The Sum of the Current and Previous Number is :  5\n",
      "\n",
      "Current Number is :  4\n",
      "The Sum of the Current and Previous Number is :  7\n",
      "\n",
      "Current Number is :  5\n",
      "The Sum of the Current and Previous Number is :  9\n",
      "\n",
      "Current Number is :  6\n",
      "The Sum of the Current and Previous Number is :  11\n",
      "\n",
      "Current Number is :  7\n",
      "The Sum of the Current and Previous Number is :  13\n",
      "\n",
      "Current Number is :  8\n",
      "The Sum of the Current and Previous Number is :  15\n",
      "\n",
      "Current Number is :  9\n",
      "The Sum of the Current and Previous Number is :  17\n",
      "\n",
      "Current Number is :  10\n",
      "The Sum of the Current and Previous Number is :  19\n",
      "\n"
     ]
    }
   ],
   "source": [
    "my_sum = 0\n",
    "prev_num = 0\n",
    "\n",
    "for i in range(1 , 11):\n",
    "    my_sum = prev_num + i\n",
    "    print(\"Current Number is : \", i)\n",
    "    print(\"The Sum of the Current and Previous Number is : \", my_sum)\n",
    "    print() # to add a new line\n",
    "    prev_num = i"
   ]
  },
  {
   "cell_type": "markdown",
   "id": "b15d0c8b",
   "metadata": {},
   "source": [
    "# Task-2"
   ]
  },
  {
   "cell_type": "code",
   "execution_count": 5,
   "id": "16a99fb7",
   "metadata": {},
   "outputs": [
    {
     "name": "stdout",
     "output_type": "stream",
     "text": [
      "1 \n",
      "2 2 \n",
      "3 3 3 \n",
      "4 4 4 4 \n",
      "5 5 5 5 5 \n"
     ]
    }
   ],
   "source": [
    "for i in range(1 , 6):\n",
    "    for j in range(i):\n",
    "        print(i , end = \" \")\n",
    "    print()"
   ]
  },
  {
   "cell_type": "markdown",
   "id": "c27bddf5",
   "metadata": {},
   "source": [
    "# Task-3"
   ]
  },
  {
   "cell_type": "code",
   "execution_count": 14,
   "id": "105c1f11",
   "metadata": {},
   "outputs": [
    {
     "name": "stdout",
     "output_type": "stream",
     "text": [
      "75 150 145 "
     ]
    }
   ],
   "source": [
    "numbers = [12, 75, 150, 180, 145, 525, 50]\n",
    "\n",
    "for i in numbers:\n",
    "    \n",
    "    if (i > 500):\n",
    "        break\n",
    "        \n",
    "    elif(i % 5 == 0 and i <= 150):\n",
    "        print(i , end = \" \")"
   ]
  },
  {
   "cell_type": "markdown",
   "id": "8a31ae7d",
   "metadata": {},
   "source": [
    "# Task-4"
   ]
  },
  {
   "cell_type": "code",
   "execution_count": 18,
   "id": "c8810ff5",
   "metadata": {},
   "outputs": [
    {
     "name": "stdout",
     "output_type": "stream",
     "text": [
      "0 1 1 2 3 5 8 13 21 34 "
     ]
    }
   ],
   "source": [
    "num_before_num = 0\n",
    "num_before = 1\n",
    "\n",
    "print(num_before_num , end = \" \")\n",
    "print(num_before , end = \" \")\n",
    "\n",
    "for i in range(8):\n",
    "    num = num_before_num + num_before\n",
    "    num_before_num = num_before\n",
    "    num_before = num\n",
    "    \n",
    "    print(num , end = \" \")"
   ]
  },
  {
   "cell_type": "markdown",
   "id": "5d260c14",
   "metadata": {},
   "source": [
    "# Task-5"
   ]
  },
  {
   "cell_type": "code",
   "execution_count": 37,
   "id": "f5e8166b",
   "metadata": {},
   "outputs": [
    {
     "name": "stdout",
     "output_type": "stream",
     "text": [
      "Enter a number : 5\n",
      "The factorial of 5 is 120\n"
     ]
    }
   ],
   "source": [
    "number = int(input(\"Enter a number : \"))\n",
    "factorial_of_num = number * (number - 1)\n",
    "num = number\n",
    "number = number - 2\n",
    "\n",
    "while(number > 0):\n",
    "    factorial_of_num = factorial_of_num * number\n",
    "    number = number - 1\n",
    "print(\"The factorial of\", num ,\"is\", factorial_of_num)"
   ]
  },
  {
   "cell_type": "markdown",
   "id": "5e922f53",
   "metadata": {},
   "source": [
    "# Task-7"
   ]
  },
  {
   "cell_type": "code",
   "execution_count": 46,
   "id": "725ce2c7",
   "metadata": {},
   "outputs": [
    {
     "name": "stdout",
     "output_type": "stream",
     "text": [
      "The third list will be as follows: [4, 6, 12, 12, 20, 18, 28]\n"
     ]
    }
   ],
   "source": [
    "l1 = [3, 6, 9, 12, 15, 18, 21]\n",
    "l2 = [4, 8, 12, 16, 20, 24, 28]\n",
    "\n",
    "l3 = []\n",
    "\n",
    "for i in range(len(l1)):\n",
    "    \n",
    "    if(i % 2 == 0):\n",
    "        l3.append(l2[i])\n",
    "    \n",
    "    else:\n",
    "        l3.append(l1[i])\n",
    "print(\"The third list will be as follows:\", l3)"
   ]
  },
  {
   "cell_type": "code",
   "execution_count": null,
   "id": "b4fe9b95",
   "metadata": {},
   "outputs": [],
   "source": []
  }
 ],
 "metadata": {
  "kernelspec": {
   "display_name": "Python 3 (ipykernel)",
   "language": "python",
   "name": "python3"
  },
  "language_info": {
   "codemirror_mode": {
    "name": "ipython",
    "version": 3
   },
   "file_extension": ".py",
   "mimetype": "text/x-python",
   "name": "python",
   "nbconvert_exporter": "python",
   "pygments_lexer": "ipython3",
   "version": "3.11.5"
  }
 },
 "nbformat": 4,
 "nbformat_minor": 5
}
